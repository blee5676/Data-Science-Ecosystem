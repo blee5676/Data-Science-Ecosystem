{
 "cells": [
  {
   "cell_type": "markdown",
   "id": "58473416-3cac-418c-a3f0-0016976a6363",
   "metadata": {},
   "source": [
    "# Data Science Tools and Ecosystem"
   ]
  },
  {
   "cell_type": "markdown",
   "id": "0255519e-9841-43fd-9d2f-7debb9b46845",
   "metadata": {},
   "source": [
    "## In this notebook, Data Science Tools and Ecosystem are summarized"
   ]
  },
  {
   "cell_type": "markdown",
   "id": "e877bf1b-8ec9-4bb9-ae70-e709a25bce10",
   "metadata": {},
   "source": [
    "### Some of the popular languages that Data Scientists use are:\n",
    "1. Python\n",
    "2. R\n",
    "3. Java"
   ]
  },
  {
   "cell_type": "markdown",
   "id": "9e0588f0-6479-4984-bb2a-054db32807b8",
   "metadata": {},
   "source": [
    "### Some of the commonly used libraries used by Data Scientists include:\n",
    "1. Numpy\n",
    "2. Matplotlib\n",
    "3. Scikit-learn"
   ]
  },
  {
   "cell_type": "markdown",
   "id": "f07a23bf-c2bf-4a25-abb1-f59f1ca3a93e",
   "metadata": {},
   "source": [
    "### Data Science Tools\n",
    "| Data Science Tools |\n",
    "| --- |\n",
    "| Hadoop | \n",
    "| GGplot2 | \n",
    "| RStudio |"
   ]
  },
  {
   "cell_type": "markdown",
   "id": "71aeb266-26a9-4ab5-9c90-ad026e76993b",
   "metadata": {},
   "source": [
    "### Below are a few examples of evaluating arithmetic expressions in Python"
   ]
  },
  {
   "cell_type": "code",
   "execution_count": 1,
   "id": "da536e26-a41a-427c-8f35-a5cb1dce2778",
   "metadata": {},
   "outputs": [
    {
     "data": {
      "text/plain": [
       "17"
      ]
     },
     "execution_count": 1,
     "metadata": {},
     "output_type": "execute_result"
    }
   ],
   "source": [
    "# This a simple arithmetic expression to multiply then add integers\n",
    "(3*4)+5"
   ]
  },
  {
   "cell_type": "code",
   "execution_count": 2,
   "id": "ed7bc779-6492-4b13-ac6d-bf6406b18948",
   "metadata": {},
   "outputs": [
    {
     "name": "stdout",
     "output_type": "stream",
     "text": [
      "3.3333333333333335\n"
     ]
    }
   ],
   "source": [
    "# This will convert 200 minutes to hours by diving by 60\n",
    "minutes = 200\n",
    "hours = minutes / 60\n",
    "print(hours)"
   ]
  },
  {
   "cell_type": "markdown",
   "id": "6f1b9c4c-dea6-4f9d-bf76-825424548261",
   "metadata": {},
   "source": [
    "# **Objectives**\n",
    "1. List popular languages for data science\n",
    "2. List commonly used libaries for data science\n",
    "3. List popular data science tools\n",
    "4. Write a arithmetic expression\n",
    "5. Write code to convert minutes to hours"
   ]
  },
  {
   "cell_type": "markdown",
   "id": "0e451ce3-4d0c-4a8d-86d9-6553832ecb6a",
   "metadata": {},
   "source": [
    "## Author\n",
    "Braden Lee"
   ]
  },
  {
   "cell_type": "code",
   "execution_count": null,
   "id": "d678fc12-a117-428a-b7e6-e8cb8d48e232",
   "metadata": {},
   "outputs": [],
   "source": []
  }
 ],
 "metadata": {
  "kernelspec": {
   "display_name": "Python 3 (ipykernel)",
   "language": "python",
   "name": "python3"
  },
  "language_info": {
   "codemirror_mode": {
    "name": "ipython",
    "version": 3
   },
   "file_extension": ".py",
   "mimetype": "text/x-python",
   "name": "python",
   "nbconvert_exporter": "python",
   "pygments_lexer": "ipython3",
   "version": "3.12.7"
  }
 },
 "nbformat": 4,
 "nbformat_minor": 5
}
